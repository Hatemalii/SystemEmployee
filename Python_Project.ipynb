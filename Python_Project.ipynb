{
  "cells": [
    {
      "cell_type": "code",
      "execution_count": null,
      "id": "03161203-e16c-4d7f-838e-7bf051ca22ed",
      "metadata": {
        "id": "03161203-e16c-4d7f-838e-7bf051ca22ed"
      },
      "outputs": [],
      "source": [
        "import csv\n",
        "class Employee:\n",
        "    def __init__(self,name,ID,position,salary):\n",
        "        self.name=name\n",
        "        self.ID=ID\n",
        "        self.position=position\n",
        "        self.salary=salary\n",
        "    def showEmployee(self):\n",
        "        print(f'Name:{self.name},ID:{self.ID},Position:{self.position},Salary:{self.salary}')\n",
        "\n",
        "class EmployeeManager:\n",
        "    def __init__(self,name,ID,position,salary):\n",
        "        self.name=name\n",
        "        self.ID=ID\n",
        "        self.position=position\n",
        "        self.salary=salary\n",
        "    def addemp(self,name,ID,position,salary):\n",
        "        row1=[name,ID,position,salary]\n",
        "        with open(\"employees.csv\",mode='r', newline='') as file:\n",
        "            reader = csv.reader(file)\n",
        "        with open(\"employees.csv\", mode='a', newline='') as file:\n",
        "            writer= csv.writer(file)\n",
        "            writer.writerow(row1)\n",
        "            print(\"added\")\n",
        "    def selectEmpIfThereToModify(self,ID):\n",
        "        employees=[]\n",
        "        found=False\n",
        "        with open(\"employees.csv\", mode='r', newline='') as file:\n",
        "            reader= csv.reader(file)\n",
        "            for row in reader:\n",
        "                employees.append(row)\n",
        "            for emp in employees:\n",
        "                if emp[1]==str(ID):\n",
        "                    found=True\n",
        "                    print(f\"Employee {emp} has been found\")\n",
        "                    choice=int(input(\"What you want to change\\n1-Name\\n2-position\\n3-salary\"))\n",
        "                    if (choice ==1):\n",
        "                        new=input(\"Enter the new name\")\n",
        "                        emp[0]=new\n",
        "                    elif (choice == 2):\n",
        "                        new = input(\"Enter the new position\")\n",
        "                        emp[2]=new\n",
        "                    elif (choice == 3):\n",
        "                        new = input(\"Enter the new salary\")\n",
        "                        emp[3]=new\n",
        "                    else:\n",
        "                        print(\"Invalid input try again\")\n",
        "                        return\n",
        "            if found:\n",
        "                with open(\"employees.csv\", mode='w', newline='') as file:\n",
        "                    writer = csv.writer(file)\n",
        "                    writer.writerows(employees)\n",
        "                    print(\"Employees file has been updated successfully.\")\n",
        "            else:\n",
        "                print(\"Employee not found.\")\n",
        "    def deleteEmployee(self,ID):\n",
        "        found = False\n",
        "        employees=[]\n",
        "        with open('employees.csv',mode='r',newline='') as file:\n",
        "            read=csv.reader(file)\n",
        "            for row in read:\n",
        "                employees.append(row)\n",
        "        for emp in employees:\n",
        "            if emp[1]==str(ID):\n",
        "                found=True\n",
        "                employees.remove(emp)\n",
        "\n",
        "        if not found:\n",
        "            print(f\"There is no {ID} in the file\")\n",
        "        else:\n",
        "            with open('employees.csv', mode='w', newline='') as file:\n",
        "                write = csv.writer(file)\n",
        "                write.writerows(employees)\n",
        "                print(\"The file has been updated succuesfully\")\n",
        "\n",
        "    def searchEmployee(self,ID):\n",
        "         temp=[]\n",
        "         person=[]\n",
        "         found=False\n",
        "         with open('employees.csv', mode='r', newline='') as file:\n",
        "             reader =csv.reader(file)\n",
        "             for row in reader:\n",
        "                 temp.append(row)\n",
        "         for emp in temp:\n",
        "             if emp[1]==str(ID):\n",
        "                 found=True\n",
        "                 person=emp\n",
        "                 break\n",
        "         if not found:\n",
        "             print(f\"There is no one with ID:{ID}\")\n",
        "         else:\n",
        "             print(person)\n",
        "    def showAll(self):\n",
        "        employees=[]\n",
        "        with open('employees.csv',mode='r',newline='') as file:\n",
        "            read=csv.reader(file)\n",
        "            for row in read:\n",
        "                employees.append(row)\n",
        "        print(employees)\n",
        "\n"
      ]
    },
    {
      "cell_type": "code",
      "execution_count": null,
      "id": "b61bf64a-3cd5-4bf7-b7a5-ae50c1781101",
      "metadata": {
        "id": "b61bf64a-3cd5-4bf7-b7a5-ae50c1781101",
        "outputId": "034baaa4-8fb4-4841-bb98-c7166e5f94d8"
      },
      "outputs": [
        {
          "name": "stdout",
          "output_type": "stream",
          "text": [
            "added\n",
            "added\n",
            "added\n",
            "added\n",
            "added\n"
          ]
        }
      ],
      "source": [
        "razan=EmployeeManager(\"Razan\",1,'Vice Ceo',234567890)\n",
        "razan.addemp(\"Moaatz\",5,'Sales',345544)\n",
        "razan.addemp(\"Ali\",6,'Engineer',98769)\n",
        "razan.addemp(\"Farah\",7,'HR',34598)\n",
        "razan.addemp(\"Ramy\",8,'Senior Engineering',98765432)\n",
        "razan.addemp(\"Raul\",9,\"Junior Engineering\",23455)\n",
        "\n",
        "\n"
      ]
    },
    {
      "cell_type": "code",
      "execution_count": null,
      "id": "93651ecc-a462-45ff-89eb-a0b78531abd7",
      "metadata": {
        "id": "93651ecc-a462-45ff-89eb-a0b78531abd7",
        "outputId": "f9b4648d-6e81-4e66-8e0f-7e622ec9c9d2"
      },
      "outputs": [
        {
          "name": "stdout",
          "output_type": "stream",
          "text": [
            "[['Moaatz', '5', 'Sales', '345544'], ['Ali', '6', 'Engineer', '98769'], ['Farah', '7', 'HR', '34598'], ['Ramy', '8', 'Senior Engineering', '98765432'], ['Raul', '9', 'Junior Engineering', '23455']]\n"
          ]
        }
      ],
      "source": [
        "razan.showAll()\n"
      ]
    },
    {
      "cell_type": "code",
      "execution_count": null,
      "id": "fc04bd5a-9944-499b-9bb3-9674124716f7",
      "metadata": {
        "id": "fc04bd5a-9944-499b-9bb3-9674124716f7",
        "outputId": "857c15ce-d516-49ac-a6c1-e1f25adda86f"
      },
      "outputs": [
        {
          "name": "stdout",
          "output_type": "stream",
          "text": [
            "['Farah', '7', 'HR', '34598']\n"
          ]
        }
      ],
      "source": [
        "razan.searchEmployee(7)\n"
      ]
    },
    {
      "cell_type": "code",
      "execution_count": null,
      "id": "990bfef5-759c-4e44-834c-b9ff0badc98e",
      "metadata": {
        "id": "990bfef5-759c-4e44-834c-b9ff0badc98e",
        "outputId": "1634fff4-d7e9-44f8-ee9a-332745de2a07"
      },
      "outputs": [
        {
          "name": "stdout",
          "output_type": "stream",
          "text": [
            "Employee Ali has been found\n"
          ]
        },
        {
          "name": "stdout",
          "output_type": "stream",
          "text": [
            "What you want to change\n",
            "1-Name\n",
            "2-position\n",
            "3-salary 3\n",
            "Enter the new salary 3000\n"
          ]
        },
        {
          "name": "stdout",
          "output_type": "stream",
          "text": [
            "Employees file has been updated successfully.\n"
          ]
        }
      ],
      "source": [
        "razan.selectEmpIfThereToModify(6)"
      ]
    },
    {
      "cell_type": "code",
      "execution_count": null,
      "id": "9b256030-f254-4cca-aba6-246c6e29535a",
      "metadata": {
        "id": "9b256030-f254-4cca-aba6-246c6e29535a",
        "outputId": "36636444-1db0-4a76-ebc1-1ccd48d34186"
      },
      "outputs": [
        {
          "name": "stdout",
          "output_type": "stream",
          "text": [
            "['Ali', '6', 'Engineer', '3000']\n"
          ]
        }
      ],
      "source": [
        "razan.searchEmployee(6)"
      ]
    },
    {
      "cell_type": "code",
      "execution_count": null,
      "id": "6ef65a20-7384-4d78-bd47-4b50d05bd1c5",
      "metadata": {
        "id": "6ef65a20-7384-4d78-bd47-4b50d05bd1c5",
        "outputId": "e7ed915c-214c-4731-c656-87eceb0c424e"
      },
      "outputs": [
        {
          "name": "stdout",
          "output_type": "stream",
          "text": [
            "There is no 5 in the file\n"
          ]
        }
      ],
      "source": [
        "razan.deleteEmployee(5)"
      ]
    },
    {
      "cell_type": "code",
      "execution_count": null,
      "id": "c98f0646-7418-4cd5-939c-f828bf8aca56",
      "metadata": {
        "id": "c98f0646-7418-4cd5-939c-f828bf8aca56",
        "outputId": "d30f7f57-4b78-40ad-b49d-d6b5bc5aadf0"
      },
      "outputs": [
        {
          "name": "stdout",
          "output_type": "stream",
          "text": [
            "[['Ali', '6', 'Engineer', '3000'], ['Farah', '7', 'HR', '34598'], ['Omar', '8', 'Senior Engineering', '98765432'], ['Raul', '9', 'Junior Engineering', '23455']]\n"
          ]
        }
      ],
      "source": [
        "razan.showAll()"
      ]
    }
  ],
  "metadata": {
    "kernelspec": {
      "display_name": "Python 3",
      "language": "python",
      "name": "python3"
    },
    "language_info": {
      "codemirror_mode": {
        "name": "ipython",
        "version": 3
      },
      "file_extension": ".py",
      "mimetype": "text/x-python",
      "name": "python",
      "nbconvert_exporter": "python",
      "pygments_lexer": "ipython3",
      "version": "3.12.0"
    },
    "colab": {
      "provenance": []
    }
  },
  "nbformat": 4,
  "nbformat_minor": 5
}